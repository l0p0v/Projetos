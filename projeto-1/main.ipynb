{
 "cells": [
  {
   "cell_type": "code",
   "execution_count": 506,
   "outputs": [],
   "source": [
    "from selenium import webdriver\n",
    "from selenium.webdriver.common.keys import Keys\n",
    "from selenium.webdriver.common.by import By\n",
    "from os import getcwd"
   ],
   "metadata": {
    "collapsed": false
   }
  },
  {
   "cell_type": "code",
   "execution_count": 489,
   "outputs": [],
   "source": [
    "# opções do navegador\n",
    "options = webdriver.ChromeOptions()\n",
    "options.add_argument('--headless')  # rodar em segundo plano"
   ],
   "metadata": {
    "collapsed": false
   }
  },
  {
   "cell_type": "code",
   "execution_count": 490,
   "outputs": [],
   "source": [
    "# abrir navegador\n",
    "navegador = webdriver.Chrome(options=options)"
   ],
   "metadata": {
    "collapsed": false
   }
  },
  {
   "cell_type": "code",
   "execution_count": 491,
   "outputs": [],
   "source": [
    "# abrir site\n",
    "navegador.get('https://www.4devs.com.br/gerador_de_nicks')"
   ],
   "metadata": {
    "collapsed": false
   }
  },
  {
   "cell_type": "code",
   "execution_count": 492,
   "outputs": [],
   "source": [
    "# escolher método (aleatório)\n",
    "navegador.find_element(By.XPATH, '//*[@id=\"method\"]/option[2]').click()"
   ],
   "metadata": {
    "collapsed": false
   }
  },
  {
   "cell_type": "code",
   "execution_count": 493,
   "outputs": [],
   "source": [
    "# remover número predefinido\n",
    "navegador.find_element(By.XPATH, '//*[@id=\"quantity\"]').send_keys(Keys.DELETE)\n",
    "navegador.find_element(By.XPATH, '//*[@id=\"quantity\"]').send_keys(Keys.DELETE)\n",
    "# definir nº de nicks a gerar (300)\n",
    "navegador.find_element(By.XPATH, '//*[@id=\"quantity\"]').send_keys(300)\n",
    "# definir número de letras (8)\n",
    "navegador.find_element(By.XPATH, '//*[@id=\"limit\"]/option[5]').click()"
   ],
   "metadata": {
    "collapsed": false
   }
  },
  {
   "cell_type": "code",
   "execution_count": 494,
   "outputs": [],
   "source": [
    "# qtd de nicks\n",
    "qtd = int(input('Qual a quantidade de nicks que você quer?'))"
   ],
   "metadata": {
    "collapsed": false
   }
  },
  {
   "cell_type": "code",
   "execution_count": 495,
   "outputs": [],
   "source": [
    "# pegar e gerar nicks\n",
    "nicks = []\n",
    "navegador.execute_script('window.scrollBy(0, 300)')\n",
    "while len(nicks) < qtd:\n",
    "    # atualizar lista de nicks\n",
    "    navegador.find_element(By.XPATH, '/html/body/main/div/div[2]/div/div[4]/div[1]/div[3]/label/input').click()\n",
    "    for i in range(1, 301):\n",
    "        if len(nicks) < qtd:\n",
    "            # adicionar nicks\n",
    "            nicks.append(navegador.find_element(By.XPATH, f'//*[@id=\"nicks\"]/ul/li[{i}]/span').text)\n",
    "        else:\n",
    "            break"
   ],
   "metadata": {
    "collapsed": false
   }
  },
  {
   "cell_type": "code",
   "execution_count": 496,
   "outputs": [],
   "source": [
    "# sair do navegador\n",
    "navegador.quit()"
   ],
   "metadata": {
    "collapsed": false
   }
  },
  {
   "cell_type": "code",
   "execution_count": 497,
   "outputs": [],
   "source": [
    "# remover repetições\n",
    "nicks = list(set(nicks))"
   ],
   "metadata": {
    "collapsed": false
   }
  },
  {
   "cell_type": "code",
   "execution_count": 498,
   "outputs": [
    {
     "name": "stdout",
     "output_type": "stream",
     "text": [
      "1    Hicaissa\n",
      "2    Kiaweaur\n",
      "3    Xoamaxye\n",
      "4    Cuexuecu\n",
      "5    Faepevan\n",
      "6    Plinoati\n",
      "7    Falidezo\n",
      "8    Rairafeo\n",
      "9    Unbyorui\n",
      "10   Anusduel\n",
      "11   Xaboyces\n",
      "12   Likaxius\n",
      "13   Uswanoti\n",
      "14   Netiogyu\n",
      "15   Heunciar\n",
      "16   Orbiebia\n",
      "17   Piobaras\n"
     ]
    }
   ],
   "source": [
    "# exibir nicks\n",
    "for i, nick in enumerate(nicks):\n",
    "    print(f'{i + 1:<5}{nick}')"
   ],
   "metadata": {
    "collapsed": false
   }
  },
  {
   "cell_type": "code",
   "execution_count": 499,
   "outputs": [
    {
     "name": "stdout",
     "output_type": "stream",
     "text": [
      "Quantidade de nicks adicionado: 17\n"
     ]
    }
   ],
   "source": [
    "arquivo = open('nicks.txt', 'a')\n",
    "arquivo.writelines([nick + '\\n' for nick in nicks])\n",
    "print(f'Quantidade de nicks adicionado: {len(nicks)}')"
   ],
   "metadata": {
    "collapsed": false
   }
  },
  {
   "cell_type": "code",
   "execution_count": 500,
   "outputs": [
    {
     "name": "stdout",
     "output_type": "stream",
     "text": [
      "Quantidade de nicks no arquivo: 129\n"
     ]
    }
   ],
   "source": [
    "# quantidade de arquivos\n",
    "arquivo = open('nicks.txt')\n",
    "len_arquivo = len(arquivo.readlines())\n",
    "print(f'Quantidade de nicks no arquivo: {len_arquivo}')"
   ],
   "metadata": {
    "collapsed": false
   }
  },
  {
   "cell_type": "code",
   "execution_count": 501,
   "outputs": [
    {
     "name": "stdout",
     "output_type": "stream",
     "text": [
      "Nenhuma cópia removida\n"
     ]
    }
   ],
   "source": [
    "# remover copias\n",
    "arquivo = open('nicks.txt')\n",
    "remover_copias = set(arquivo.readlines())\n",
    "if len_arquivo != len(remover_copias):\n",
    "    print('Cópias removidas')\n",
    "else:\n",
    "    print('Nenhuma cópia removida')"
   ],
   "metadata": {
    "collapsed": false
   }
  },
  {
   "cell_type": "code",
   "execution_count": 502,
   "outputs": [],
   "source": [
    "arquivo = open('nicks.txt', 'w')\n",
    "arquivo.writelines(remover_copias)"
   ],
   "metadata": {
    "collapsed": false
   }
  },
  {
   "cell_type": "code",
   "execution_count": 507,
   "outputs": [
    {
     "name": "stdout",
     "output_type": "stream",
     "text": [
      "Nicks adicionados com sucesso ao arquivo: C:\\Users\\f4dra\\Desktop\\GitHub\\Projetos\\projeto-1\\nicks.txt\n"
     ]
    }
   ],
   "source": [
    "arquivo = open('nicks.txt')\n",
    "print(f'Nicks adicionados com sucesso ao arquivo: {getcwd()}\\\\nicks.txt')"
   ],
   "metadata": {
    "collapsed": false
   }
  }
 ],
 "metadata": {
  "kernelspec": {
   "display_name": "Python 3",
   "language": "python",
   "name": "python3"
  },
  "language_info": {
   "codemirror_mode": {
    "name": "ipython",
    "version": 2
   },
   "file_extension": ".py",
   "mimetype": "text/x-python",
   "name": "python",
   "nbconvert_exporter": "python",
   "pygments_lexer": "ipython2",
   "version": "2.7.6"
  }
 },
 "nbformat": 4,
 "nbformat_minor": 0
}
