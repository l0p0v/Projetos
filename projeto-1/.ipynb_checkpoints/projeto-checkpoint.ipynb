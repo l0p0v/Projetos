{
 "cells": [
  {
   "cell_type": "markdown",
   "metadata": {},
   "source": [
    "# Projeto de Web Scraping\n",
    "\n",
    "### O objetivo desse projeto é entrar no site da 4devs para gerar nicks, fazer as devidas configurações no site e então salva-los em um arquivo.txt\n",
    "\n",
    "- Não pode haver cópias no array de nicks nem no arquivo onde eles ficarão salvos"
   ]
  },
  {
   "cell_type": "code",
   "execution_count": 18,
   "metadata": {},
   "outputs": [],
   "source": [
    "from selenium import webdriver\n",
    "from selenium.webdriver.common.keys import Keys\n",
    "from selenium.webdriver.common.by import By\n",
    "from os import getcwd"
   ]
  },
  {
   "cell_type": "code",
   "execution_count": 19,
   "metadata": {},
   "outputs": [],
   "source": [
    "# opções do navegador\n",
    "options = webdriver.ChromeOptions()\n",
    "options.add_argument('--headless')  # rodar em segundo plano"
   ]
  },
  {
   "cell_type": "code",
   "execution_count": 20,
   "metadata": {},
   "outputs": [],
   "source": [
    "# abrir navegador\n",
    "navegador = webdriver.Chrome(options=options)"
   ]
  },
  {
   "cell_type": "code",
   "execution_count": 21,
   "metadata": {},
   "outputs": [],
   "source": [
    "# abrir site\n",
    "navegador.get('https://www.4devs.com.br/gerador_de_nicks')"
   ]
  },
  {
   "cell_type": "code",
   "execution_count": 22,
   "metadata": {},
   "outputs": [],
   "source": [
    "# escolher método (aleatório)\n",
    "navegador.find_element(By.XPATH, '//*[@id=\"method\"]/option[2]').click()"
   ]
  },
  {
   "cell_type": "code",
   "execution_count": 23,
   "metadata": {},
   "outputs": [],
   "source": [
    "# remover número predefinido\n",
    "navegador.find_element(By.XPATH, '//*[@id=\"quantity\"]').send_keys(Keys.DELETE)\n",
    "navegador.find_element(By.XPATH, '//*[@id=\"quantity\"]').send_keys(Keys.DELETE)\n",
    "# definir nº de nicks a gerar (300)\n",
    "navegador.find_element(By.XPATH, '//*[@id=\"quantity\"]').send_keys(300)\n",
    "# definir número de letras (8)\n",
    "navegador.find_element(By.XPATH, '//*[@id=\"limit\"]/option[5]').click()"
   ]
  },
  {
   "cell_type": "code",
   "execution_count": 24,
   "metadata": {},
   "outputs": [
    {
     "name": "stdout",
     "output_type": "stream",
     "text": [
      "Qual a quantidade de nicks que você quer? 500\n"
     ]
    }
   ],
   "source": [
    "# qtd de nicks\n",
    "qtd = int(input('Qual a quantidade de nicks que você quer? '))"
   ]
  },
  {
   "cell_type": "code",
   "execution_count": null,
   "metadata": {},
   "outputs": [],
   "source": [
    "# pegar e gerar nicks\n",
    "nicks = []\n",
    "navegador.execute_script('window.scrollBy(0, 300)')\n",
    "while len(nicks) < qtd:\n",
    "    # atualizar lista de nicks\n",
    "    navegador.find_element(By.XPATH, '/html/body/main/div/div[2]/div/div[4]/div[1]/div[3]/label/input').click()\n",
    "    for i in range(1, 301):\n",
    "        if len(nicks) < qtd:\n",
    "            # adicionar nicks\n",
    "            nicks.append(navegador.find_element(By.XPATH, f'//*[@id=\"nicks\"]/ul/li[{i}]/span').text)\n",
    "        else:\n",
    "            break"
   ]
  },
  {
   "cell_type": "code",
   "execution_count": null,
   "metadata": {},
   "outputs": [],
   "source": [
    "# sair do navegador\n",
    "navegador.quit()"
   ]
  },
  {
   "cell_type": "code",
   "execution_count": null,
   "metadata": {},
   "outputs": [],
   "source": [
    "# remover repetições\n",
    "nicks = list(set(nicks))"
   ]
  },
  {
   "cell_type": "code",
   "execution_count": null,
   "metadata": {},
   "outputs": [],
   "source": [
    "# exibir nicks\n",
    "for i, nick in enumerate(nicks):\n",
    "    print(f'{i + 1:<5}{nick}')"
   ]
  },
  {
   "cell_type": "code",
   "execution_count": null,
   "metadata": {},
   "outputs": [],
   "source": [
    "# adicionar nicks no arquivo de nicks.txt\n",
    "arquivo = open('nicks.txt', 'a')\n",
    "arquivo.writelines([nick + '\\n' for nick in nicks])\n",
    "print(f'Quantidade de nicks adicionado: {len(nicks)}')"
   ]
  },
  {
   "cell_type": "code",
   "execution_count": null,
   "metadata": {},
   "outputs": [],
   "source": [
    "# quantidade de arquivos\n",
    "arquivo = open('nicks.txt')\n",
    "len_arquivo = len(arquivo.readlines())\n",
    "print(f'Quantidade de nicks no arquivo: {len_arquivo}')"
   ]
  },
  {
   "cell_type": "code",
   "execution_count": null,
   "metadata": {},
   "outputs": [],
   "source": [
    "# tentar remover as cópias\n",
    "arquivo = open('nicks.txt')\n",
    "remover_copias = set(arquivo.readlines())\n",
    "if len_arquivo != len(remover_copias):\n",
    "    print('Cópias removidas')\n",
    "else:\n",
    "    print('Nenhuma cópia removida')"
   ]
  },
  {
   "cell_type": "code",
   "execution_count": null,
   "metadata": {},
   "outputs": [],
   "source": [
    "# reescrever o arquivo sem as cópias\n",
    "arquivo = open('nicks.txt', 'w')\n",
    "arquivo.writelines(remover_copias)"
   ]
  },
  {
   "cell_type": "code",
   "execution_count": null,
   "metadata": {},
   "outputs": [],
   "source": [
    "# atualizar o arquivo\n",
    "arquivo = open('nicks.txt')\n",
    "print(f'Nicks adicionados com sucesso ao arquivo: {getcwd()}\\\\nicks.txt')"
   ]
  }
 ],
 "metadata": {
  "kernelspec": {
   "display_name": "Python 3 (ipykernel)",
   "language": "python",
   "name": "python3"
  },
  "language_info": {
   "codemirror_mode": {
    "name": "ipython",
    "version": 3
   },
   "file_extension": ".py",
   "mimetype": "text/x-python",
   "name": "python",
   "nbconvert_exporter": "python",
   "pygments_lexer": "ipython3",
   "version": "3.9.12"
  }
 },
 "nbformat": 4,
 "nbformat_minor": 1
}
