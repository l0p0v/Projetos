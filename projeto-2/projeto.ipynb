{
 "cells": [
  {
   "cell_type": "markdown",
   "source": [
    "# Projeto de Web Scraping\n",
    "\n",
    "### Ainda não tenho muita ideia do que fazer com esse código... ele entra no site da investing.com na área de bancos centrais e pega alguns dados"
   ],
   "metadata": {
    "collapsed": false
   }
  },
  {
   "cell_type": "code",
   "execution_count": 44,
   "metadata": {
    "collapsed": true
   },
   "outputs": [],
   "source": [
    "from selenium import webdriver\n",
    "from selenium.webdriver.common.by import By\n",
    "from os import getcwd\n",
    "from datetime import datetime"
   ]
  },
  {
   "cell_type": "code",
   "execution_count": 45,
   "outputs": [],
   "source": [
    "def formatar_data(agora: datetime.now()):\n",
    "    hora = agora.hour\n",
    "    minuto = agora.minute\n",
    "    segundo = agora.second\n",
    "    if hora < 10:\n",
    "        hora = f'0{hora}'\n",
    "    if minuto < 10:\n",
    "        minuto = f'0{minuto}'\n",
    "    if segundo < 10:\n",
    "        segundo = f'0{segundo}'\n",
    "    return f'{agora.day}-{agora.month}-{agora.year} - {hora};{minuto};{segundo}'"
   ],
   "metadata": {
    "collapsed": false
   }
  },
  {
   "cell_type": "code",
   "execution_count": 46,
   "outputs": [],
   "source": [
    "# opções do navegador\n",
    "options = webdriver.ChromeOptions()\n",
    "options.add_argument('--headless')  # rodar em segundo plano\n",
    "# abrir navegador\n",
    "navegador = webdriver.Chrome(options=options)\n",
    "# entrar no site\n",
    "navegador.get('https://br.investing.com/central-banks/')"
   ],
   "metadata": {
    "collapsed": false
   }
  },
  {
   "cell_type": "code",
   "execution_count": 47,
   "outputs": [],
   "source": [
    "def formatar_taxa(banco):\n",
    "    return float(banco['Taxa Atual'].replace(',', '.').replace('%', ''))"
   ],
   "metadata": {
    "collapsed": false
   }
  },
  {
   "cell_type": "code",
   "execution_count": 48,
   "outputs": [],
   "source": [
    "# pegar os dados\n",
    "bancos_centrais = [\n",
    "    # {'Banco Central': ..., 'Taxa Atual': x%, 'Reunião': xx.xx.xxxx, 'Última Mudança': xx.xx.xxxx (xxbp)}\n",
    "]\n",
    "for i in range(1, 12):\n",
    "    banco_central = navegador.find_element(By.XPATH, f'//*[@id=\"curr_table\"]/tbody/tr[{i}]/td[2]/a').text\n",
    "    banco_central += ' ' + navegador.find_element(By.XPATH, f'//*[@id=\"curr_table\"]/tbody/tr[{i}]/td[2]/span').text\n",
    "    taxa_atual = navegador.find_element(By.XPATH, f'//*[@id=\"curr_table\"]/tbody/tr[{i}]/td[3]').text\n",
    "    reuniao = navegador.find_element(By.XPATH, f'//*[@id=\"curr_table\"]/tbody/tr[{i}]/td[4]').text\n",
    "    ultima_mudanca = navegador.find_element(By.XPATH, f'//*[@id=\"curr_table\"]/tbody/tr[{i}]/td[5]').text\n",
    "    bancos_centrais.append({\n",
    "        'Banco Central': banco_central,\n",
    "        'Taxa Atual': taxa_atual,\n",
    "        'Reunião': reuniao,\n",
    "        'Última Mudança': ultima_mudanca\n",
    "    })"
   ],
   "metadata": {
    "collapsed": false
   }
  },
  {
   "cell_type": "code",
   "execution_count": 49,
   "outputs": [],
   "source": [
    "navegador.quit()"
   ],
   "metadata": {
    "collapsed": false
   }
  },
  {
   "cell_type": "code",
   "execution_count": 50,
   "outputs": [],
   "source": [
    "# formatar os dados\n",
    "texto = f'{\"Banco Central\":<48}{\"Taxa Atual\":<20}{\"Reunião\":<20}{\"Última Mudança\"}\\n\\n'\n",
    "for bc in bancos_centrais:\n",
    "    texto += f'{bc[\"Banco Central\"]:<48}{bc[\"Taxa Atual\"]:<20}{bc[\"Reunião\"]:<20}{bc[\"Última Mudança\"]}\\n'"
   ],
   "metadata": {
    "collapsed": false
   }
  },
  {
   "cell_type": "code",
   "execution_count": 51,
   "outputs": [],
   "source": [
    "# indicadores borocoxô\n",
    "melhor_taxa_atual = max(bancos_centrais, key=lambda banco: formatar_taxa(banco))['Banco Central']\n",
    "pior_taxa_atual = min(bancos_centrais, key=lambda banco: formatar_taxa(banco))['Banco Central']"
   ],
   "metadata": {
    "collapsed": false
   }
  },
  {
   "cell_type": "code",
   "execution_count": 52,
   "outputs": [],
   "source": [
    "# adicionar ao texto\n",
    "texto += f'\\nBanco com a melhor taxa atual: {melhor_taxa_atual}'\n",
    "texto += f'\\nBanco com a pior taxa atual: {pior_taxa_atual}'"
   ],
   "metadata": {
    "collapsed": false
   }
  },
  {
   "cell_type": "code",
   "execution_count": 53,
   "outputs": [
    {
     "name": "stdout",
     "output_type": "stream",
     "text": [
      "Banco Central                                   Taxa Atual          Reunião             Última Mudança\n",
      "\n",
      "Banco Central do Brasil (BCB)                   13,75%              26.10.2022          03.08.2022 (50bp)\n",
      "Banco Central Europeu (ECB)                     1,25%               27.10.2022          08.09.2022 (75bp)\n",
      "Reserva Federal (FED)                           3,25%               02.11.2022          21.09.2022 (75bp)\n",
      "Banco da Inglaterra (BOE)                       2,25%               03.11.2022          22.09.2022 (50bp)\n",
      "Banco Nacional Suíço (SNB)                      0,50%               15.12.2022          22.09.2022 (75bp)\n",
      "Banco da Reserva da Austrália (RBA)             2,60%               04.10.2022          04.10.2022 (25bp)\n",
      "Banco do Canadá (BOC)                           3,25%               26.10.2022          07.09.2022 (75bp)\n",
      "Banco do Japão (BOJ)                            -0,10%              28.10.2022          29.01.2016 (-20bp)\n",
      "Banco Central da Federação Russa (CBR)          7,50%               28.10.2022          16.09.2022 (-50bp)\n",
      "Banco de Reserva da Índia (RBI)                 5,90%               07.12.2022          30.09.2022 (50bp)\n",
      "Banco Popular da China (PBOC)                   3,65%                                   22.08.2022 (-5bp)\n",
      "\n",
      "Banco com a melhor taxa atual: Banco Central do Brasil (BCB)\n",
      "Banco com a pior taxa atual: Banco do Japão (BOJ)\n"
     ]
    }
   ],
   "source": [
    "print(texto)"
   ],
   "metadata": {
    "collapsed": false
   }
  },
  {
   "cell_type": "code",
   "execution_count": 54,
   "outputs": [],
   "source": [
    "now = formatar_data(datetime.now())"
   ],
   "metadata": {
    "collapsed": false
   }
  },
  {
   "cell_type": "code",
   "execution_count": 55,
   "outputs": [],
   "source": [
    "# criar arquivo\n",
    "arquivo = open(fr'logs/log {now}.txt', 'a')\n",
    "# escrever no arquivo\n",
    "arquivo.writelines(texto)\n",
    "# fechar arquivo\n",
    "arquivo.close()"
   ],
   "metadata": {
    "collapsed": false
   }
  },
  {
   "cell_type": "code",
   "execution_count": 58,
   "outputs": [
    {
     "name": "stdout",
     "output_type": "stream",
     "text": [
      "Arquivo salvo em: C:\\Users\\f4dra\\Desktop\\GitHub\\Projetos\\projeto-2\\logs\\log 7-10-2022 - 23;55;27\n"
     ]
    }
   ],
   "source": [
    "print(fr'Arquivo salvo em: {getcwd()}\\logs\\log {now}')"
   ],
   "metadata": {
    "collapsed": false
   }
  }
 ],
 "metadata": {
  "kernelspec": {
   "display_name": "Python 3",
   "language": "python",
   "name": "python3"
  },
  "language_info": {
   "codemirror_mode": {
    "name": "ipython",
    "version": 2
   },
   "file_extension": ".py",
   "mimetype": "text/x-python",
   "name": "python",
   "nbconvert_exporter": "python",
   "pygments_lexer": "ipython2",
   "version": "2.7.6"
  }
 },
 "nbformat": 4,
 "nbformat_minor": 0
}
