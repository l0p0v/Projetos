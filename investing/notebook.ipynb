{
 "cells": [
  {
   "cell_type": "markdown",
   "metadata": {
    "collapsed": false
   },
   "source": [
    "# Projeto de Web Scraping\n",
    "\n",
    "### Ele entra no site da investing.com na área de bancos centrais e pega os dados dos banco e salva um log em um arquivo.txt"
   ]
  },
  {
   "cell_type": "code",
   "execution_count": 1,
   "metadata": {
    "collapsed": true
   },
   "outputs": [],
   "source": [
    "from selenium import webdriver\n",
    "from selenium.webdriver.common.by import By\n",
    "from os import getcwd\n",
    "from datetime import datetime"
   ]
  },
  {
   "cell_type": "code",
   "execution_count": 2,
   "metadata": {
    "collapsed": false
   },
   "outputs": [],
   "source": [
    "def formatar_data(agora: datetime.now()):\n",
    "    hora = agora.hour\n",
    "    minuto = agora.minute\n",
    "    segundo = agora.second\n",
    "    if hora < 10:\n",
    "        hora = f'0{hora}'\n",
    "    if minuto < 10:\n",
    "        minuto = f'0{minuto}'\n",
    "    if segundo < 10:\n",
    "        segundo = f'0{segundo}'\n",
    "    return f'{agora.day}-{agora.month}-{agora.year} {hora};{minuto};{segundo}'"
   ]
  },
  {
   "cell_type": "code",
   "execution_count": 3,
   "metadata": {
    "collapsed": false
   },
   "outputs": [],
   "source": [
    "# opções do navegador\n",
    "options = webdriver.ChromeOptions()\n",
    "options.add_argument('--headless')  # rodar em segundo plano\n",
    "# abrir navegador\n",
    "navegador = webdriver.Chrome(options=options)\n",
    "# entrar no site\n",
    "navegador.get('https://br.investing.com/central-banks/')"
   ]
  },
  {
   "cell_type": "code",
   "execution_count": 4,
   "metadata": {
    "collapsed": false
   },
   "outputs": [],
   "source": [
    "def formatar_taxa(banco):\n",
    "    return float(banco['Taxa Atual'].replace(',', '.').replace('%', ''))"
   ]
  },
  {
   "cell_type": "code",
   "execution_count": 5,
   "metadata": {
    "collapsed": false
   },
   "outputs": [],
   "source": [
    "# pegar os dados\n",
    "bancos_centrais = [\n",
    "    # {'Banco Central': ..., 'Taxa Atual': x%, 'Reunião': xx.xx.xxxx, 'Última Mudança': xx.xx.xxxx (xxbp)}\n",
    "]\n",
    "for i in range(1, 12):\n",
    "    banco_central = navegador.find_element(By.XPATH, f'//*[@id=\"curr_table\"]/tbody/tr[{i}]/td[2]/a').text\n",
    "    banco_central += ' ' + navegador.find_element(By.XPATH, f'//*[@id=\"curr_table\"]/tbody/tr[{i}]/td[2]/span').text\n",
    "    taxa_atual = navegador.find_element(By.XPATH, f'//*[@id=\"curr_table\"]/tbody/tr[{i}]/td[3]').text\n",
    "    reuniao = navegador.find_element(By.XPATH, f'//*[@id=\"curr_table\"]/tbody/tr[{i}]/td[4]').text\n",
    "    ultima_mudanca = navegador.find_element(By.XPATH, f'//*[@id=\"curr_table\"]/tbody/tr[{i}]/td[5]').text\n",
    "    bancos_centrais.append({\n",
    "        'Banco Central': banco_central,\n",
    "        'Taxa Atual': taxa_atual,\n",
    "        'Reunião': reuniao,\n",
    "        'Última Mudança': ultima_mudanca\n",
    "    })"
   ]
  },
  {
   "cell_type": "code",
   "execution_count": 6,
   "metadata": {
    "collapsed": false
   },
   "outputs": [],
   "source": [
    "navegador.quit()"
   ]
  },
  {
   "cell_type": "code",
   "execution_count": 7,
   "metadata": {
    "collapsed": false
   },
   "outputs": [],
   "source": [
    "# formatar os dados\n",
    "texto = f'{\"Banco Central\":<48}{\"Taxa Atual\":<20}{\"Reunião\":<20}{\"Última Mudança\"}\\n\\n'\n",
    "for bc in bancos_centrais:\n",
    "    texto += f'{bc[\"Banco Central\"]:<48}{bc[\"Taxa Atual\"]:<20}{bc[\"Reunião\"]:<20}{bc[\"Última Mudança\"]}\\n'"
   ]
  },
  {
   "cell_type": "code",
   "execution_count": 8,
   "metadata": {
    "collapsed": false
   },
   "outputs": [],
   "source": [
    "# indicadores borocoxô\n",
    "melhor_taxa_atual = max(bancos_centrais, key=lambda banco: formatar_taxa(banco))['Banco Central']\n",
    "pior_taxa_atual = min(bancos_centrais, key=lambda banco: formatar_taxa(banco))['Banco Central']"
   ]
  },
  {
   "cell_type": "code",
   "execution_count": 9,
   "metadata": {
    "collapsed": false
   },
   "outputs": [],
   "source": [
    "# adicionar ao texto\n",
    "texto += f'\\nBanco com a melhor taxa atual: {melhor_taxa_atual}'\n",
    "texto += f'\\nBanco com a pior taxa atual: {pior_taxa_atual}'"
   ]
  },
  {
   "cell_type": "code",
   "execution_count": 10,
   "metadata": {
    "collapsed": false
   },
   "outputs": [
    {
     "name": "stdout",
     "output_type": "stream",
     "text": [
      "Banco Central                                   Taxa Atual          Reunião             Última Mudança\n",
      "\n",
      "Banco Central do Brasil (BCB)                   13,75%              07.12.2022          03.08.2022 (50bp)\n",
      "Banco Central Europeu (ECB)                     2,00%               15.12.2022          27.10.2022 (75bp)\n",
      "Reserva Federal (FED)                           3,25%               02.11.2022          21.09.2022 (75bp)\n",
      "Banco da Inglaterra (BOE)                       2,25%               03.11.2022          22.09.2022 (50bp)\n",
      "Banco Nacional Suíço (SNB)                      0,50%               15.12.2022          22.09.2022 (75bp)\n",
      "Banco da Reserva da Austrália (RBA)             2,60%               06.12.2022          04.10.2022 (25bp)\n",
      "Banco do Canadá (BOC)                           3,75%               07.12.2022          26.10.2022 (50bp)\n",
      "Banco do Japão (BOJ)                            -0,10%              28.10.2022          29.01.2016 (-20bp)\n",
      "Banco Central da Federação Russa (CBR)          7,50%               28.10.2022          16.09.2022 (-50bp)\n",
      "Banco de Reserva da Índia (RBI)                 5,90%               07.12.2022          30.09.2022 (50bp)\n",
      "Banco Popular da China (PBOC)                   3,65%                                   22.08.2022 (-5bp)\n",
      "\n",
      "Banco com a melhor taxa atual: Banco Central do Brasil (BCB)\n",
      "Banco com a pior taxa atual: Banco do Japão (BOJ)\n"
     ]
    }
   ],
   "source": [
    "print(texto)"
   ]
  },
  {
   "cell_type": "code",
   "execution_count": 11,
   "metadata": {
    "collapsed": false
   },
   "outputs": [],
   "source": [
    "now = formatar_data(datetime.now())"
   ]
  },
  {
   "cell_type": "code",
   "execution_count": 12,
   "metadata": {
    "collapsed": false
   },
   "outputs": [],
   "source": [
    "# criar arquivo\n",
    "arquivo = open(fr'logs/log {now}.txt', 'a')\n",
    "# escrever no arquivo\n",
    "arquivo.writelines(texto)\n",
    "# fechar arquivo\n",
    "arquivo.close()"
   ]
  },
  {
   "cell_type": "code",
   "execution_count": 13,
   "metadata": {
    "collapsed": false
   },
   "outputs": [
    {
     "name": "stdout",
     "output_type": "stream",
     "text": [
      "Arquivo salvo em: C:\\Users\\Administrator\\Documents\\GitHub\\Projetos\\projeto-2\\logs\\log 28-10-2022 21;36;42\n"
     ]
    }
   ],
   "source": [
    "print(fr'Arquivo salvo em: {getcwd()}\\logs\\log {now}')"
   ]
  }
 ],
 "metadata": {
  "kernelspec": {
   "display_name": "base",
   "language": "python",
   "name": "python3"
  },
  "language_info": {
   "codemirror_mode": {
    "name": "ipython",
    "version": 2
   },
   "file_extension": ".py",
   "mimetype": "text/x-python",
   "name": "python",
   "nbconvert_exporter": "python",
   "pygments_lexer": "ipython2",
   "version": "3.9.15 | packaged by conda-forge | (main, Nov 22 2022, 15:55:03) \n[GCC 10.4.0]"
  },
  "vscode": {
   "interpreter": {
    "hash": "d9034c92505e5db914380bfeb752302aaf8d7086dde80799ff5479c17773f0e3"
   }
  }
 },
 "nbformat": 4,
 "nbformat_minor": 0
}
