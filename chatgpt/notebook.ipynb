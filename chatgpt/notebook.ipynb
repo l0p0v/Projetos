{
 "cells": [
  {
   "cell_type": "code",
   "execution_count": 93,
   "metadata": {},
   "outputs": [],
   "source": [
    "import pandas as pd\n",
    "import matplotlib.pyplot as plt"
   ]
  },
  {
   "cell_type": "code",
   "execution_count": 94,
   "metadata": {},
   "outputs": [],
   "source": [
    "tweets = pd.read_csv('tweets.csv')"
   ]
  },
  {
   "cell_type": "code",
   "execution_count": 95,
   "metadata": {},
   "outputs": [
    {
     "data": {
      "text/html": [
       "<div>\n",
       "<style scoped>\n",
       "    .dataframe tbody tr th:only-of-type {\n",
       "        vertical-align: middle;\n",
       "    }\n",
       "\n",
       "    .dataframe tbody tr th {\n",
       "        vertical-align: top;\n",
       "    }\n",
       "\n",
       "    .dataframe thead th {\n",
       "        text-align: right;\n",
       "    }\n",
       "</style>\n",
       "<table border=\"1\" class=\"dataframe\">\n",
       "  <thead>\n",
       "    <tr style=\"text-align: right;\">\n",
       "      <th></th>\n",
       "      <th>user_name</th>\n",
       "      <th>text</th>\n",
       "      <th>user_location</th>\n",
       "      <th>user_description</th>\n",
       "      <th>user_created</th>\n",
       "      <th>user_followers</th>\n",
       "      <th>user_friends</th>\n",
       "      <th>user_favourites</th>\n",
       "      <th>user_verified</th>\n",
       "      <th>date</th>\n",
       "      <th>hashtags</th>\n",
       "      <th>source</th>\n",
       "    </tr>\n",
       "  </thead>\n",
       "  <tbody>\n",
       "    <tr>\n",
       "      <th>0</th>\n",
       "      <td>John Nosta</td>\n",
       "      <td>The Second Big Bang.  Thoughts on #AI, the #di...</td>\n",
       "      <td>07945</td>\n",
       "      <td>I'm a technology theorist driving innovation a...</td>\n",
       "      <td>2009-01-29 14:00:16+00:00</td>\n",
       "      <td>74459.0</td>\n",
       "      <td>53009.0</td>\n",
       "      <td>39233</td>\n",
       "      <td>True</td>\n",
       "      <td>2022-12-29 21:04:08+00:00</td>\n",
       "      <td>['AI', 'digitaltwin', 'technology', 'GPT3', 'C...</td>\n",
       "      <td>Twitter Web App</td>\n",
       "    </tr>\n",
       "    <tr>\n",
       "      <th>1</th>\n",
       "      <td>Garret K</td>\n",
       "      <td>Made a \"mock Turing test\" for #ChatGPT. You ju...</td>\n",
       "      <td>NaN</td>\n",
       "      <td>NaN</td>\n",
       "      <td>2022-12-29 08:20:55+00:00</td>\n",
       "      <td>1.0</td>\n",
       "      <td>9.0</td>\n",
       "      <td>0</td>\n",
       "      <td>False</td>\n",
       "      <td>2022-12-29 21:04:06+00:00</td>\n",
       "      <td>['ChatGPT']</td>\n",
       "      <td>Twitter Web App</td>\n",
       "    </tr>\n",
       "    <tr>\n",
       "      <th>2</th>\n",
       "      <td>Dhimaar</td>\n",
       "      <td>Looks like Chatgpt is stuck in 2021 😀 Not read...</td>\n",
       "      <td>NaN</td>\n",
       "      <td>NaN</td>\n",
       "      <td>2010-12-07 04:34:50+00:00</td>\n",
       "      <td>0.0</td>\n",
       "      <td>26.0</td>\n",
       "      <td>3</td>\n",
       "      <td>False</td>\n",
       "      <td>2022-12-29 21:03:25+00:00</td>\n",
       "      <td>['ChatGPT', 'Messi', 'Ronaldo']</td>\n",
       "      <td>Twitter for iPhone</td>\n",
       "    </tr>\n",
       "    <tr>\n",
       "      <th>3</th>\n",
       "      <td>Mr Beast || Dogemaniac</td>\n",
       "      <td>@ChatGPT_ERC20 @carl305555411 @Ritesh_Trades @...</td>\n",
       "      <td>NaN</td>\n",
       "      <td>Dogememer || Space, Mars ✨️ Elon Musk 💖 Follow...</td>\n",
       "      <td>2020-08-03 22:12:07+00:00</td>\n",
       "      <td>545.0</td>\n",
       "      <td>501.0</td>\n",
       "      <td>2488</td>\n",
       "      <td>False</td>\n",
       "      <td>2022-12-29 21:01:44+00:00</td>\n",
       "      <td>['ChatGPT', 'AI']</td>\n",
       "      <td>Twitter for Android</td>\n",
       "    </tr>\n",
       "    <tr>\n",
       "      <th>4</th>\n",
       "      <td>Syed Mehdi Raza</td>\n",
       "      <td>#AI changed people's lifestyles by providing a...</td>\n",
       "      <td>Canada</td>\n",
       "      <td>Civil Engineer | Manager Projects | Systems Th...</td>\n",
       "      <td>2010-09-10 19:00:29+00:00</td>\n",
       "      <td>303.0</td>\n",
       "      <td>465.0</td>\n",
       "      <td>91</td>\n",
       "      <td>False</td>\n",
       "      <td>2022-12-29 21:00:49+00:00</td>\n",
       "      <td>['AI']</td>\n",
       "      <td>LinkedIn</td>\n",
       "    </tr>\n",
       "  </tbody>\n",
       "</table>\n",
       "</div>"
      ],
      "text/plain": [
       "                user_name                                               text  \\\n",
       "0              John Nosta  The Second Big Bang.  Thoughts on #AI, the #di...   \n",
       "1                Garret K  Made a \"mock Turing test\" for #ChatGPT. You ju...   \n",
       "2                 Dhimaar  Looks like Chatgpt is stuck in 2021 😀 Not read...   \n",
       "3  Mr Beast || Dogemaniac  @ChatGPT_ERC20 @carl305555411 @Ritesh_Trades @...   \n",
       "4         Syed Mehdi Raza  #AI changed people's lifestyles by providing a...   \n",
       "\n",
       "  user_location                                   user_description  \\\n",
       "0         07945  I'm a technology theorist driving innovation a...   \n",
       "1           NaN                                                NaN   \n",
       "2           NaN                                                NaN   \n",
       "3           NaN  Dogememer || Space, Mars ✨️ Elon Musk 💖 Follow...   \n",
       "4        Canada  Civil Engineer | Manager Projects | Systems Th...   \n",
       "\n",
       "                user_created  user_followers  user_friends user_favourites  \\\n",
       "0  2009-01-29 14:00:16+00:00         74459.0       53009.0           39233   \n",
       "1  2022-12-29 08:20:55+00:00             1.0           9.0               0   \n",
       "2  2010-12-07 04:34:50+00:00             0.0          26.0               3   \n",
       "3  2020-08-03 22:12:07+00:00           545.0         501.0            2488   \n",
       "4  2010-09-10 19:00:29+00:00           303.0         465.0              91   \n",
       "\n",
       "  user_verified                       date  \\\n",
       "0          True  2022-12-29 21:04:08+00:00   \n",
       "1         False  2022-12-29 21:04:06+00:00   \n",
       "2         False  2022-12-29 21:03:25+00:00   \n",
       "3         False  2022-12-29 21:01:44+00:00   \n",
       "4         False  2022-12-29 21:00:49+00:00   \n",
       "\n",
       "                                            hashtags               source  \n",
       "0  ['AI', 'digitaltwin', 'technology', 'GPT3', 'C...      Twitter Web App  \n",
       "1                                        ['ChatGPT']      Twitter Web App  \n",
       "2                    ['ChatGPT', 'Messi', 'Ronaldo']   Twitter for iPhone  \n",
       "3                                  ['ChatGPT', 'AI']  Twitter for Android  \n",
       "4                                             ['AI']             LinkedIn  "
      ]
     },
     "metadata": {},
     "output_type": "display_data"
    },
    {
     "data": {
      "text/plain": [
       "(56764, 12)"
      ]
     },
     "execution_count": 95,
     "metadata": {},
     "output_type": "execute_result"
    }
   ],
   "source": [
    "display(tweets.head())\n",
    "tweets.shape"
   ]
  },
  {
   "cell_type": "code",
   "execution_count": 96,
   "metadata": {},
   "outputs": [
    {
     "data": {
      "text/plain": [
       "(33672, 12)"
      ]
     },
     "execution_count": 96,
     "metadata": {},
     "output_type": "execute_result"
    }
   ],
   "source": [
    "# Drop duplicates and NaN\n",
    "tweets.drop_duplicates(inplace=True)\n",
    "tweets.dropna(inplace=True)\n",
    "tweets.shape"
   ]
  },
  {
   "attachments": {},
   "cell_type": "markdown",
   "metadata": {},
   "source": [
    "### Verified users"
   ]
  },
  {
   "cell_type": "code",
   "execution_count": 115,
   "metadata": {},
   "outputs": [
    {
     "name": "stdout",
     "output_type": "stream",
     "text": [
      "False    96.635187\n",
      "True      3.364813\n",
      "Name: user_verified, dtype: float64\n"
     ]
    }
   ],
   "source": [
    "# Percentage of tweets that are verified\n",
    "percentage_of_tweets = tweets['user_verified'].value_counts(normalize=True) * 100\n",
    "print(percentage_of_tweets)"
   ]
  },
  {
   "cell_type": "code",
   "execution_count": 116,
   "metadata": {},
   "outputs": [
    {
     "data": {
      "text/html": [
       "<div>\n",
       "<style scoped>\n",
       "    .dataframe tbody tr th:only-of-type {\n",
       "        vertical-align: middle;\n",
       "    }\n",
       "\n",
       "    .dataframe tbody tr th {\n",
       "        vertical-align: top;\n",
       "    }\n",
       "\n",
       "    .dataframe thead th {\n",
       "        text-align: right;\n",
       "    }\n",
       "</style>\n",
       "<table border=\"1\" class=\"dataframe\">\n",
       "  <thead>\n",
       "    <tr style=\"text-align: right;\">\n",
       "      <th></th>\n",
       "      <th>user_name</th>\n",
       "      <th>text</th>\n",
       "      <th>user_location</th>\n",
       "      <th>user_description</th>\n",
       "      <th>user_created</th>\n",
       "      <th>user_followers</th>\n",
       "      <th>user_friends</th>\n",
       "      <th>user_favourites</th>\n",
       "      <th>user_verified</th>\n",
       "      <th>date</th>\n",
       "      <th>hashtags</th>\n",
       "      <th>source</th>\n",
       "    </tr>\n",
       "  </thead>\n",
       "  <tbody>\n",
       "    <tr>\n",
       "      <th>0</th>\n",
       "      <td>John Nosta</td>\n",
       "      <td>The Second Big Bang.  Thoughts on #AI, the #di...</td>\n",
       "      <td>07945</td>\n",
       "      <td>I'm a technology theorist driving innovation a...</td>\n",
       "      <td>2009-01-29 14:00:16+00:00</td>\n",
       "      <td>74459.0</td>\n",
       "      <td>53009.0</td>\n",
       "      <td>39233</td>\n",
       "      <td>True</td>\n",
       "      <td>2022-12-29 21:04:08+00:00</td>\n",
       "      <td>ai, digitaltwin, technology, gpt3, chatgpt</td>\n",
       "      <td>Twitter Web App</td>\n",
       "    </tr>\n",
       "    <tr>\n",
       "      <th>74</th>\n",
       "      <td>Patrick Seitz</td>\n",
       "      <td>A guide to CES 2023 written by the ChatGPT art...</td>\n",
       "      <td>Vienna, Va.</td>\n",
       "      <td>Senior writer for Investor's Business Daily, @...</td>\n",
       "      <td>2013-06-25 16:31:42+00:00</td>\n",
       "      <td>5314.0</td>\n",
       "      <td>1688.0</td>\n",
       "      <td>204</td>\n",
       "      <td>True</td>\n",
       "      <td>2022-12-29 20:12:25+00:00</td>\n",
       "      <td>ces2023</td>\n",
       "      <td>Twitter Web App</td>\n",
       "    </tr>\n",
       "    <tr>\n",
       "      <th>100</th>\n",
       "      <td>John Nosta</td>\n",
       "      <td>Humanity’s Four Truths in the Era of Technolog...</td>\n",
       "      <td>07945</td>\n",
       "      <td>I'm a technology theorist driving innovation a...</td>\n",
       "      <td>2009-01-29 14:00:16+00:00</td>\n",
       "      <td>74459.0</td>\n",
       "      <td>53009.0</td>\n",
       "      <td>39233</td>\n",
       "      <td>True</td>\n",
       "      <td>2022-12-29 19:58:11+00:00</td>\n",
       "      <td>ai, technology, aristotle, gpt3, chatgpt</td>\n",
       "      <td>Twitter Web App</td>\n",
       "    </tr>\n",
       "    <tr>\n",
       "      <th>101</th>\n",
       "      <td>Kristi Hines</td>\n",
       "      <td>@Google Comparing search results and #ChatGPT ...</td>\n",
       "      <td>Phoenix, AZ</td>\n",
       "      <td>Editor @sejournal and content creator. Views e...</td>\n",
       "      <td>2008-08-11 23:17:45+00:00</td>\n",
       "      <td>46701.0</td>\n",
       "      <td>406.0</td>\n",
       "      <td>2190</td>\n",
       "      <td>True</td>\n",
       "      <td>2022-12-29 19:56:42+00:00</td>\n",
       "      <td>chatgpt</td>\n",
       "      <td>Twitter for iPhone</td>\n",
       "    </tr>\n",
       "    <tr>\n",
       "      <th>229</th>\n",
       "      <td>John Nosta</td>\n",
       "      <td>Will ChatGPT Kill the Student Essay?  #AI #Cha...</td>\n",
       "      <td>07945</td>\n",
       "      <td>I'm a technology theorist driving innovation a...</td>\n",
       "      <td>2009-01-29 14:00:16+00:00</td>\n",
       "      <td>74459.0</td>\n",
       "      <td>53009.0</td>\n",
       "      <td>39233</td>\n",
       "      <td>True</td>\n",
       "      <td>2022-12-29 18:39:06+00:00</td>\n",
       "      <td>ai, chatgpt, gpt3, education</td>\n",
       "      <td>Twitter for iPhone</td>\n",
       "    </tr>\n",
       "  </tbody>\n",
       "</table>\n",
       "</div>"
      ],
      "text/plain": [
       "         user_name                                               text  \\\n",
       "0       John Nosta  The Second Big Bang.  Thoughts on #AI, the #di...   \n",
       "74   Patrick Seitz  A guide to CES 2023 written by the ChatGPT art...   \n",
       "100     John Nosta  Humanity’s Four Truths in the Era of Technolog...   \n",
       "101   Kristi Hines  @Google Comparing search results and #ChatGPT ...   \n",
       "229     John Nosta  Will ChatGPT Kill the Student Essay?  #AI #Cha...   \n",
       "\n",
       "    user_location                                   user_description  \\\n",
       "0           07945  I'm a technology theorist driving innovation a...   \n",
       "74    Vienna, Va.  Senior writer for Investor's Business Daily, @...   \n",
       "100         07945  I'm a technology theorist driving innovation a...   \n",
       "101   Phoenix, AZ  Editor @sejournal and content creator. Views e...   \n",
       "229         07945  I'm a technology theorist driving innovation a...   \n",
       "\n",
       "                  user_created  user_followers  user_friends user_favourites  \\\n",
       "0    2009-01-29 14:00:16+00:00         74459.0       53009.0           39233   \n",
       "74   2013-06-25 16:31:42+00:00          5314.0        1688.0             204   \n",
       "100  2009-01-29 14:00:16+00:00         74459.0       53009.0           39233   \n",
       "101  2008-08-11 23:17:45+00:00         46701.0         406.0            2190   \n",
       "229  2009-01-29 14:00:16+00:00         74459.0       53009.0           39233   \n",
       "\n",
       "    user_verified                       date  \\\n",
       "0            True  2022-12-29 21:04:08+00:00   \n",
       "74           True  2022-12-29 20:12:25+00:00   \n",
       "100          True  2022-12-29 19:58:11+00:00   \n",
       "101          True  2022-12-29 19:56:42+00:00   \n",
       "229          True  2022-12-29 18:39:06+00:00   \n",
       "\n",
       "                                       hashtags              source  \n",
       "0    ai, digitaltwin, technology, gpt3, chatgpt     Twitter Web App  \n",
       "74                                      ces2023     Twitter Web App  \n",
       "100    ai, technology, aristotle, gpt3, chatgpt     Twitter Web App  \n",
       "101                                     chatgpt  Twitter for iPhone  \n",
       "229                ai, chatgpt, gpt3, education  Twitter for iPhone  "
      ]
     },
     "metadata": {},
     "output_type": "display_data"
    },
    {
     "name": "stdout",
     "output_type": "stream",
     "text": [
      "(1133, 12)\n"
     ]
    }
   ],
   "source": [
    "# Tweets that are verified\n",
    "tweets_verified = tweets[tweets['user_verified'] == 'True']\n",
    "display(tweets_verified.head())\n",
    "print(tweets_verified.shape)"
   ]
  },
  {
   "cell_type": "code",
   "execution_count": 143,
   "metadata": {},
   "outputs": [
    {
     "data": {
      "image/png": "[encoded data removed]",
      "text/plain": [
       "<Figure size 1000x500 with 1 Axes>"
      ]
     },
     "metadata": {},
     "output_type": "display_data"
    }
   ],
   "source": [
    "# Plot the percentage of tweets that are verified\n",
    "plt.figure(figsize=(10, 5), dpi=100, facecolor='w', edgecolor='k')\n",
    "# Title and labels of the plot\n",
    "plt.bar(percentage_of_tweets.index, percentage_of_tweets.values, color=['red', 'blue'], alpha=0.5, width=0.5, edgecolor='black', linewidth=1, tick_label=['Not Verified', 'Verified'], align='center', label='Percentage of Tweets', log=False, orientation='vertical', linestyle='-', antialiased=True)\n",
    "plt.title('Percentage of Tweets that are Verified', fontsize=14, fontweight='bold', color='black', loc='center', pad=10, y=1.05, style='italic')\n",
    "plt.ylabel('Percentage', fontsize=12, fontweight='bold', color='black', linespacing=2, rotation_mode='anchor', style='italic')\n",
    "plt.xlabel('Users', fontsize=12, fontweight='bold', color='black', labelpad=10, linespacing=2, style='italic')\n",
    "# Display the plot\n",
    "plt.show()"
   ]
  },
  {
   "attachments": {},
   "cell_type": "markdown",
   "metadata": {},
   "source": [
    "## Source of tweet"
   ]
  },
  {
   "cell_type": "code",
   "execution_count": 100,
   "metadata": {},
   "outputs": [
    {
     "name": "stdout",
     "output_type": "stream",
     "text": [
      "Twitter Web App               51.19%\n",
      "Twitter for iPhone            21.78%\n",
      "Twitter for Android           15.26%\n",
      "TweetDeck                     1.74%\n",
      "Twitter for iPad              1.36%\n",
      "LinkedIn                      1.27%\n",
      "Buffer                        1.03%\n",
      "Twitter for Mac               0.82%\n",
      "Hootsuite Inc.                0.56%\n",
      "Semrush Social Media Tool     0.46%\n"
     ]
    }
   ],
   "source": [
    "# 10 most common sources of tweets\n",
    "source = tweets['source'].value_counts(normalize=True).head(10) * 100\n",
    "for index, value in source.items():\n",
    "    print(f'{index:<30}{value:.2f}%')"
   ]
  },
  {
   "attachments": {},
   "cell_type": "markdown",
   "metadata": {},
   "source": [
    "## Hashtags"
   ]
  },
  {
   "cell_type": "code",
   "execution_count": 101,
   "metadata": {},
   "outputs": [],
   "source": [
    "# Clean hashtags\n",
    "tweets['hashtags'] = tweets['hashtags'].str.strip(\"[]\").str.replace(\"'\", \"\").str.lower()\n",
    "# Merging all hashtags into one list\n",
    "tweets_hashtags = tweets['hashtags'].str.split(', ', expand=True).stack().reset_index(level=1, drop=True)"
   ]
  },
  {
   "cell_type": "code",
   "execution_count": 102,
   "metadata": {},
   "outputs": [],
   "source": [
    "# Hashtags in tweets\n",
    "hashtags = tweets_hashtags.value_counts(normalize=True).head(10) * 100"
   ]
  },
  {
   "cell_type": "code",
   "execution_count": 104,
   "metadata": {},
   "outputs": [
    {
     "name": "stdout",
     "output_type": "stream",
     "text": [
      "Richard Geldreich                                 0.56%\n",
      "Lucio Giolli                                      0.50%\n",
      "Cybersécurité, IA, Metavers, Cryptomonnaies       0.42%\n",
      "@tomruen@mathstodon.xyz                           0.20%\n",
      "Woodu                                             0.18%\n"
     ]
    }
   ],
   "source": [
    "# Users with the most tweets\n",
    "users = tweets['user_name'].value_counts(normalize=True).head(5) * 100\n",
    "# Most common users\n",
    "for index, value in users.items():\n",
    "    print(f'{index:<50}{value:.2f}%')"
   ]
  },
  {
   "cell_type": "code",
   "execution_count": null,
   "metadata": {},
   "outputs": [],
   "source": []
  }
 ],
 "metadata": {
  "kernelspec": {
   "display_name": "base",
   "language": "python",
   "name": "python3"
  },
  "language_info": {
   "codemirror_mode": {
    "name": "ipython",
    "version": 3
   },
   "file_extension": ".py",
   "mimetype": "text/x-python",
   "name": "python",
   "nbconvert_exporter": "python",
   "pygments_lexer": "ipython3",
   "version": "3.9.15"
  },
  "orig_nbformat": 4,
  "vscode": {
   "interpreter": {
    "hash": "d9034c92505e5db914380bfeb752302aaf8d7086dde80799ff5479c17773f0e3"
   }
  }
 },
 "nbformat": 4,
 "nbformat_minor": 2
}
