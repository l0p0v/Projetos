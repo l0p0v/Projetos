{
 "cells": [
  {
   "cell_type": "markdown",
   "metadata": {},
   "source": [
    "# Projeto de Web Scraping\n",
    "\n",
    "### O objetivo desse projeto é entrar no site da 4devs para gerar nicks, fazer as devidas configurações no site, gerar as listas e ir salvando-as num array, assim por diante até o quantidade informada, então salvar esses nicks (no array) em um arquivo.\n",
    "\n",
    "- Não pode haver cópias no array de nicks nem no arquivo onde eles ficarão salvos"
   ]
  },
  {
   "cell_type": "code",
   "execution_count": 98,
   "metadata": {},
   "outputs": [],
   "source": [
    "from selenium import webdriver\n",
    "from selenium.webdriver.common.keys import Keys\n",
    "from selenium.webdriver.common.by import By\n",
    "from os import getcwd"
   ]
  },
  {
   "cell_type": "code",
   "execution_count": 99,
   "metadata": {},
   "outputs": [],
   "source": [
    "# opções do navegador\n",
    "options = webdriver.ChromeOptions()\n",
    "options.add_argument('--headless')  # rodar em segundo plano"
   ]
  },
  {
   "cell_type": "code",
   "execution_count": 100,
   "metadata": {},
   "outputs": [],
   "source": [
    "# abrir navegador\n",
    "navegador = webdriver.Chrome(options=options)"
   ]
  },
  {
   "cell_type": "code",
   "execution_count": 101,
   "metadata": {},
   "outputs": [],
   "source": [
    "# abrir site\n",
    "navegador.get('https://www.4devs.com.br/gerador_de_nicks')"
   ]
  },
  {
   "cell_type": "code",
   "execution_count": 102,
   "metadata": {},
   "outputs": [],
   "source": [
    "# escolher método (aleatório)\n",
    "navegador.find_element(By.XPATH, '//*[@id=\"method\"]/option[2]').click()"
   ]
  },
  {
   "cell_type": "code",
   "execution_count": 103,
   "metadata": {},
   "outputs": [],
   "source": [
    "# remover número predefinido\n",
    "navegador.find_element(By.XPATH, '//*[@id=\"quantity\"]').send_keys(Keys.DELETE)\n",
    "navegador.find_element(By.XPATH, '//*[@id=\"quantity\"]').send_keys(Keys.DELETE)\n",
    "# definir nº de nicks a gerar (300)\n",
    "navegador.find_element(By.XPATH, '//*[@id=\"quantity\"]').send_keys(300)\n",
    "# definir número de letras (8)\n",
    "navegador.find_element(By.XPATH, '//*[@id=\"limit\"]/option[5]').click()"
   ]
  },
  {
   "cell_type": "code",
   "execution_count": 104,
   "metadata": {},
   "outputs": [],
   "source": [
    "# quantidade de nicks para adicionar\n",
    "qtd = int(input('Qual a quantidade de nicks que você quer? '))"
   ]
  },
  {
   "cell_type": "code",
   "execution_count": 105,
   "metadata": {},
   "outputs": [],
   "source": [
    "# pegar e gerar nicks\n",
    "nicks = []\n",
    "navegador.execute_script('window.scrollBy(0, 300)')\n",
    "while len(nicks) < qtd:\n",
    "    # atualizar lista de nicks\n",
    "    navegador.find_element(By.XPATH, '/html/body/main/div/div[2]/div/div[4]/div[1]/div[3]/label/input').click()\n",
    "    for i in range(1, 301):\n",
    "        if len(nicks) < qtd:\n",
    "            # adicionar os nicks\n",
    "            nicks.append(navegador.find_element(By.XPATH, f'//*[@id=\"nicks\"]/ul/li[{i}]/span').text)\n",
    "        else:\n",
    "            break"
   ]
  },
  {
   "cell_type": "code",
   "execution_count": 106,
   "metadata": {},
   "outputs": [],
   "source": [
    "# encerrar navegador\n",
    "navegador.quit()"
   ]
  },
  {
   "cell_type": "code",
   "execution_count": 107,
   "metadata": {},
   "outputs": [],
   "source": [
    "# remover repetições\n",
    "nicks = list(set(nicks))"
   ]
  },
  {
   "cell_type": "code",
   "execution_count": 108,
   "outputs": [],
   "source": [
    "# editar nicks\n",
    "for i in range(len(nicks)):\n",
    "\tnicks[i] = nicks[i] + '\\n'"
   ],
   "metadata": {
    "collapsed": false
   }
  },
  {
   "cell_type": "code",
   "execution_count": 109,
   "metadata": {},
   "outputs": [
    {
     "name": "stdout",
     "output_type": "stream",
     "text": [
      "Quantidade de nicks no arquivo: 1000\n"
     ]
    }
   ],
   "source": [
    "# quantidade de nicks no arquivo\n",
    "arquivo = open('nicks.txt')\n",
    "len_arquivo = len(arquivo.readlines())\n",
    "print(f'Quantidade de nicks no arquivo: {len_arquivo}')\n",
    "arquivo.close()"
   ]
  },
  {
   "cell_type": "code",
   "execution_count": 122,
   "outputs": [
    {
     "name": "stdout",
     "output_type": "stream",
     "text": [
      "Nicks repetidos:\n",
      "\n",
      "Finalizado\n"
     ]
    }
   ],
   "source": [
    "# verificar e remover nicks repetidos no arquivo\n",
    "arquivo = open('nicks.txt', 'r')\n",
    "nick_arquivo = arquivo.readlines()\n",
    "for i, nick in enumerate(nicks):\n",
    "\tif nick in nick_arquivo:\n",
    "\t\tdel nicks[i]\n",
    "arquivo.close()"
   ],
   "metadata": {
    "collapsed": false
   }
  },
  {
   "cell_type": "code",
   "execution_count": 123,
   "metadata": {},
   "outputs": [],
   "source": [
    "# criar/abrir arquivo\n",
    "arquivo = open('nicks.txt', 'a')\n",
    "# reescrever o arquivo sem as cópias\n",
    "arquivo.writelines(nicks)\n",
    "# fechar arquivo\n",
    "arquivo.close()"
   ]
  },
  {
   "cell_type": "code",
   "execution_count": 124,
   "metadata": {},
   "outputs": [
    {
     "name": "stdout",
     "output_type": "stream",
     "text": [
      "Nicks adicionados com sucesso ao arquivo: C:\\Users\\f4dra\\Desktop\\GitHub\\Projetos\\projeto-1\\nicks.txt\n"
     ]
    }
   ],
   "source": [
    "# mensagem\n",
    "print(f'Nicks adicionados com sucesso ao arquivo: {getcwd()}\\\\nicks.txt')"
   ]
  }
 ],
 "metadata": {
  "kernelspec": {
   "display_name": "Python 3 (ipykernel)",
   "language": "python",
   "name": "python3"
  },
  "language_info": {
   "codemirror_mode": {
    "name": "ipython",
    "version": 3
   },
   "file_extension": ".py",
   "mimetype": "text/x-python",
   "name": "python",
   "nbconvert_exporter": "python",
   "pygments_lexer": "ipython3",
   "version": "3.9.12"
  }
 },
 "nbformat": 4,
 "nbformat_minor": 1
}
